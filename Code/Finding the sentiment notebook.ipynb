{
 "cells": [
  {
   "cell_type": "code",
   "execution_count": 1,
   "id": "df0101d1",
   "metadata": {},
   "outputs": [],
   "source": [
    "import pandas as pd\n",
    "import numpy as np\n",
    "from textblob import TextBlob\n",
    "import string\n",
    "import re"
   ]
  },
  {
   "cell_type": "code",
   "execution_count": 2,
   "id": "b2470cbf",
   "metadata": {},
   "outputs": [],
   "source": [
    "df = pd.read_csv('cleaned_tweets_.csv')"
   ]
  },
  {
   "cell_type": "code",
   "execution_count": 3,
   "id": "78fe622f",
   "metadata": {},
   "outputs": [
    {
     "data": {
      "text/html": [
       "<div>\n",
       "<style scoped>\n",
       "    .dataframe tbody tr th:only-of-type {\n",
       "        vertical-align: middle;\n",
       "    }\n",
       "\n",
       "    .dataframe tbody tr th {\n",
       "        vertical-align: top;\n",
       "    }\n",
       "\n",
       "    .dataframe thead th {\n",
       "        text-align: right;\n",
       "    }\n",
       "</style>\n",
       "<table border=\"1\" class=\"dataframe\">\n",
       "  <thead>\n",
       "    <tr style=\"text-align: right;\">\n",
       "      <th></th>\n",
       "      <th>created_at</th>\n",
       "      <th>id</th>\n",
       "      <th>lang</th>\n",
       "      <th>full_text</th>\n",
       "      <th>verified</th>\n",
       "      <th>author_id</th>\n",
       "      <th>user_loc</th>\n",
       "      <th>hashtags</th>\n",
       "      <th>tweet_loc</th>\n",
       "      <th>text</th>\n",
       "    </tr>\n",
       "  </thead>\n",
       "  <tbody>\n",
       "    <tr>\n",
       "      <th>0</th>\n",
       "      <td>2020-09-01 04:00:43+00:00</td>\n",
       "      <td>1300644730292899841</td>\n",
       "      <td>en</td>\n",
       "      <td>how covid-19 is changing healthcare for good h...</td>\n",
       "      <td>False</td>\n",
       "      <td>3291010518</td>\n",
       "      <td>United States</td>\n",
       "      <td>[]</td>\n",
       "      <td>NaN</td>\n",
       "      <td>how covid 19 is changing healthcare for good</td>\n",
       "    </tr>\n",
       "    <tr>\n",
       "      <th>1</th>\n",
       "      <td>2020-09-01 04:00:43+00:00</td>\n",
       "      <td>1300644731391746049</td>\n",
       "      <td>en</td>\n",
       "      <td>the open daily #sfvalley https://t.co/p011orvx...</td>\n",
       "      <td>False</td>\n",
       "      <td>102106430</td>\n",
       "      <td>Los Angeles, CA</td>\n",
       "      <td>[{'text': 'SFValley', 'indices': [15, 24]}, {'...</td>\n",
       "      <td>NaN</td>\n",
       "      <td>the open daily featuring</td>\n",
       "    </tr>\n",
       "    <tr>\n",
       "      <th>2</th>\n",
       "      <td>2020-09-01 04:00:44+00:00</td>\n",
       "      <td>1300644735602880517</td>\n",
       "      <td>en</td>\n",
       "      <td>covid-19 in canada: ford 'begging' teacher's u...</td>\n",
       "      <td>False</td>\n",
       "      <td>960723743671832578</td>\n",
       "      <td>Quebec, Longueuil city</td>\n",
       "      <td>[]</td>\n",
       "      <td>NaN</td>\n",
       "      <td>covid 19 in canada ford begging teacher s unio...</td>\n",
       "    </tr>\n",
       "    <tr>\n",
       "      <th>3</th>\n",
       "      <td>2020-09-01 04:00:44+00:00</td>\n",
       "      <td>1300644735745368065</td>\n",
       "      <td>en</td>\n",
       "      <td>@scottc20012 @ceonunneley @gavinnewsom somethi...</td>\n",
       "      <td>False</td>\n",
       "      <td>886681711542534146</td>\n",
       "      <td>USA</td>\n",
       "      <td>[{'text': 'saveourchildren', 'indices': [205, ...</td>\n",
       "      <td>NaN</td>\n",
       "      <td>something greater for both of you to ponder th...</td>\n",
       "    </tr>\n",
       "    <tr>\n",
       "      <th>4</th>\n",
       "      <td>2020-09-01 04:00:46+00:00</td>\n",
       "      <td>1300644742691135491</td>\n",
       "      <td>en</td>\n",
       "      <td>the roman catholic diocese of antipolo is once...</td>\n",
       "      <td>False</td>\n",
       "      <td>2449377056</td>\n",
       "      <td>Antipolo City, Philippines</td>\n",
       "      <td>[{'text': 'Antipolensis', 'indices': [145, 158...</td>\n",
       "      <td>NaN</td>\n",
       "      <td>the roman catholic diocese of antipolo is once...</td>\n",
       "    </tr>\n",
       "  </tbody>\n",
       "</table>\n",
       "</div>"
      ],
      "text/plain": [
       "                  created_at                   id lang  \\\n",
       "0  2020-09-01 04:00:43+00:00  1300644730292899841   en   \n",
       "1  2020-09-01 04:00:43+00:00  1300644731391746049   en   \n",
       "2  2020-09-01 04:00:44+00:00  1300644735602880517   en   \n",
       "3  2020-09-01 04:00:44+00:00  1300644735745368065   en   \n",
       "4  2020-09-01 04:00:46+00:00  1300644742691135491   en   \n",
       "\n",
       "                                           full_text  verified  \\\n",
       "0  how covid-19 is changing healthcare for good h...     False   \n",
       "1  the open daily #sfvalley https://t.co/p011orvx...     False   \n",
       "2  covid-19 in canada: ford 'begging' teacher's u...     False   \n",
       "3  @scottc20012 @ceonunneley @gavinnewsom somethi...     False   \n",
       "4  the roman catholic diocese of antipolo is once...     False   \n",
       "\n",
       "            author_id                    user_loc  \\\n",
       "0          3291010518               United States   \n",
       "1           102106430             Los Angeles, CA   \n",
       "2  960723743671832578      Quebec, Longueuil city   \n",
       "3  886681711542534146                         USA   \n",
       "4          2449377056  Antipolo City, Philippines   \n",
       "\n",
       "                                            hashtags tweet_loc  \\\n",
       "0                                                 []       NaN   \n",
       "1  [{'text': 'SFValley', 'indices': [15, 24]}, {'...       NaN   \n",
       "2                                                 []       NaN   \n",
       "3  [{'text': 'saveourchildren', 'indices': [205, ...       NaN   \n",
       "4  [{'text': 'Antipolensis', 'indices': [145, 158...       NaN   \n",
       "\n",
       "                                                text  \n",
       "0       how covid 19 is changing healthcare for good  \n",
       "1                           the open daily featuring  \n",
       "2  covid 19 in canada ford begging teacher s unio...  \n",
       "3  something greater for both of you to ponder th...  \n",
       "4  the roman catholic diocese of antipolo is once...  "
      ]
     },
     "execution_count": 3,
     "metadata": {},
     "output_type": "execute_result"
    }
   ],
   "source": [
    "df.head()"
   ]
  },
  {
   "cell_type": "code",
   "execution_count": 4,
   "id": "ad092697",
   "metadata": {},
   "outputs": [],
   "source": [
    "from MySenti import PySentiStr\n",
    "senti = PySentiStr()\n",
    "senti.setSentiStrengthPath('C:SentiStrength.jar') # Note: Provide absolute path instead of relative path\n",
    "senti.setSentiStrengthLanguageFolderPath('C:/SentiStrength_for_python-master/')"
   ]
  },
  {
   "cell_type": "code",
   "execution_count": 5,
   "id": "f04760e2",
   "metadata": {},
   "outputs": [],
   "source": [
    "df['text'] = df['text'].map(lambda x: str(x))\n",
    "list_tweet = df['text'].to_list()\n",
    "result = senti.getSentiment(list_tweet, lang='EN')\n",
    "df['sentiment'] = result"
   ]
  },
  {
   "cell_type": "code",
   "execution_count": 6,
   "id": "724221a4",
   "metadata": {},
   "outputs": [],
   "source": [
    "df.to_csv('tweetswithsenti.csv', index = False)"
   ]
  },
  {
   "cell_type": "code",
   "execution_count": 7,
   "id": "16a5cc39",
   "metadata": {},
   "outputs": [
    {
     "data": {
      "text/plain": [
       "1804970"
      ]
     },
     "execution_count": 7,
     "metadata": {},
     "output_type": "execute_result"
    }
   ],
   "source": [
    "len(df[df['sentiment']==0])"
   ]
  },
  {
   "cell_type": "code",
   "execution_count": 8,
   "id": "ddbdecc1",
   "metadata": {},
   "outputs": [
    {
     "data": {
      "text/plain": [
       "800173"
      ]
     },
     "execution_count": 8,
     "metadata": {},
     "output_type": "execute_result"
    }
   ],
   "source": [
    "len(df[df['sentiment']==1])"
   ]
  },
  {
   "cell_type": "code",
   "execution_count": 9,
   "id": "d861eab1",
   "metadata": {},
   "outputs": [
    {
     "data": {
      "text/plain": [
       "2111322"
      ]
     },
     "execution_count": 9,
     "metadata": {},
     "output_type": "execute_result"
    }
   ],
   "source": [
    "len(df[df['sentiment']==-1])"
   ]
  },
  {
   "cell_type": "code",
   "execution_count": null,
   "id": "8ad0f727",
   "metadata": {},
   "outputs": [],
   "source": []
  }
 ],
 "metadata": {
  "kernelspec": {
   "display_name": "Python 3",
   "language": "python",
   "name": "python3"
  },
  "language_info": {
   "codemirror_mode": {
    "name": "ipython",
    "version": 3
   },
   "file_extension": ".py",
   "mimetype": "text/x-python",
   "name": "python",
   "nbconvert_exporter": "python",
   "pygments_lexer": "ipython3",
   "version": "3.9.4"
  }
 },
 "nbformat": 4,
 "nbformat_minor": 5
}
