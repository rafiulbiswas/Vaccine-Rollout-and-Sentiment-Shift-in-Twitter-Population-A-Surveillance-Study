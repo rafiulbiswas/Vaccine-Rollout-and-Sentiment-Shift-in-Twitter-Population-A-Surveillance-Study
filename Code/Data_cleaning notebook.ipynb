{
 "cells": [
  {
   "cell_type": "code",
   "execution_count": 17,
   "id": "bcedfa0e",
   "metadata": {},
   "outputs": [],
   "source": [
    "import pandas as pd\n",
    "import numpy as np\n",
    "from textblob import TextBlob\n",
    "import string\n",
    "import re\n",
    "from wordcloud import WordCloud, STOPWORDS, ImageColorGenerator"
   ]
  },
  {
   "cell_type": "code",
   "execution_count": 35,
   "id": "e2ffe4ca",
   "metadata": {},
   "outputs": [],
   "source": [
    "df = pd.read_csv('march_tweets.csv')"
   ]
  },
  {
   "cell_type": "code",
   "execution_count": 36,
   "id": "bafca51c",
   "metadata": {},
   "outputs": [
    {
     "data": {
      "text/html": [
       "<div>\n",
       "<style scoped>\n",
       "    .dataframe tbody tr th:only-of-type {\n",
       "        vertical-align: middle;\n",
       "    }\n",
       "\n",
       "    .dataframe tbody tr th {\n",
       "        vertical-align: top;\n",
       "    }\n",
       "\n",
       "    .dataframe thead th {\n",
       "        text-align: right;\n",
       "    }\n",
       "</style>\n",
       "<table border=\"1\" class=\"dataframe\">\n",
       "  <thead>\n",
       "    <tr style=\"text-align: right;\">\n",
       "      <th></th>\n",
       "      <th>created_at</th>\n",
       "      <th>id</th>\n",
       "      <th>lang</th>\n",
       "      <th>full_text</th>\n",
       "      <th>verified</th>\n",
       "      <th>author_id</th>\n",
       "      <th>user_loc</th>\n",
       "      <th>hashtags</th>\n",
       "      <th>tweet_loc</th>\n",
       "    </tr>\n",
       "  </thead>\n",
       "  <tbody>\n",
       "    <tr>\n",
       "      <th>0</th>\n",
       "      <td>Mon Mar 01 05:00:59 +0000 2021</td>\n",
       "      <td>1366252100242477057</td>\n",
       "      <td>en</td>\n",
       "      <td>Congrats to PM @narendramodi ji for taking #Co...</td>\n",
       "      <td>False</td>\n",
       "      <td>255873334</td>\n",
       "      <td>New Delhi</td>\n",
       "      <td>[{'text': 'CoronaVaccine', 'indices': [43, 57]...</td>\n",
       "      <td>NaN</td>\n",
       "    </tr>\n",
       "    <tr>\n",
       "      <th>1</th>\n",
       "      <td>Mon Mar 01 05:01:00 +0000 2021</td>\n",
       "      <td>1366252104642224128</td>\n",
       "      <td>en</td>\n",
       "      <td>Did he really take it ??? Can somebody zoom an...</td>\n",
       "      <td>False</td>\n",
       "      <td>2496097650</td>\n",
       "      <td>BangaruTelangana</td>\n",
       "      <td>[]</td>\n",
       "      <td>NaN</td>\n",
       "    </tr>\n",
       "    <tr>\n",
       "      <th>2</th>\n",
       "      <td>Mon Mar 01 05:01:00 +0000 2021</td>\n",
       "      <td>1366252105166692352</td>\n",
       "      <td>en</td>\n",
       "      <td>Today I called for Auckland to be prioritised ...</td>\n",
       "      <td>True</td>\n",
       "      <td>18149977</td>\n",
       "      <td>Auckland, New Zealand</td>\n",
       "      <td>[]</td>\n",
       "      <td>NaN</td>\n",
       "    </tr>\n",
       "    <tr>\n",
       "      <th>3</th>\n",
       "      <td>Mon Mar 01 05:01:00 +0000 2021</td>\n",
       "      <td>1366252105716097024</td>\n",
       "      <td>en</td>\n",
       "      <td>\"Coronaphobia\" is a new term that researchers ...</td>\n",
       "      <td>False</td>\n",
       "      <td>1159274155</td>\n",
       "      <td>NaN</td>\n",
       "      <td>[]</td>\n",
       "      <td>NaN</td>\n",
       "    </tr>\n",
       "    <tr>\n",
       "      <th>4</th>\n",
       "      <td>Mon Mar 01 05:01:01 +0000 2021</td>\n",
       "      <td>1366252110153662467</td>\n",
       "      <td>en</td>\n",
       "      <td>In this viral and emotional TikTok, an ICU nur...</td>\n",
       "      <td>False</td>\n",
       "      <td>1159274155</td>\n",
       "      <td>NaN</td>\n",
       "      <td>[]</td>\n",
       "      <td>NaN</td>\n",
       "    </tr>\n",
       "  </tbody>\n",
       "</table>\n",
       "</div>"
      ],
      "text/plain": [
       "                       created_at                   id lang  \\\n",
       "0  Mon Mar 01 05:00:59 +0000 2021  1366252100242477057   en   \n",
       "1  Mon Mar 01 05:01:00 +0000 2021  1366252104642224128   en   \n",
       "2  Mon Mar 01 05:01:00 +0000 2021  1366252105166692352   en   \n",
       "3  Mon Mar 01 05:01:00 +0000 2021  1366252105716097024   en   \n",
       "4  Mon Mar 01 05:01:01 +0000 2021  1366252110153662467   en   \n",
       "\n",
       "                                           full_text  verified   author_id  \\\n",
       "0  Congrats to PM @narendramodi ji for taking #Co...     False   255873334   \n",
       "1  Did he really take it ??? Can somebody zoom an...     False  2496097650   \n",
       "2  Today I called for Auckland to be prioritised ...      True    18149977   \n",
       "3  \"Coronaphobia\" is a new term that researchers ...     False  1159274155   \n",
       "4  In this viral and emotional TikTok, an ICU nur...     False  1159274155   \n",
       "\n",
       "                user_loc                                           hashtags  \\\n",
       "0              New Delhi  [{'text': 'CoronaVaccine', 'indices': [43, 57]...   \n",
       "1      BangaruTelangana                                                  []   \n",
       "2  Auckland, New Zealand                                                 []   \n",
       "3                    NaN                                                 []   \n",
       "4                    NaN                                                 []   \n",
       "\n",
       "  tweet_loc  \n",
       "0       NaN  \n",
       "1       NaN  \n",
       "2       NaN  \n",
       "3       NaN  \n",
       "4       NaN  "
      ]
     },
     "execution_count": 36,
     "metadata": {},
     "output_type": "execute_result"
    }
   ],
   "source": [
    "df.head()"
   ]
  },
  {
   "cell_type": "code",
   "execution_count": 37,
   "id": "abf4d5f3",
   "metadata": {},
   "outputs": [
    {
     "data": {
      "text/plain": [
       "4817138"
      ]
     },
     "execution_count": 37,
     "metadata": {},
     "output_type": "execute_result"
    }
   ],
   "source": [
    "df.shape[0]"
   ]
  },
  {
   "cell_type": "code",
   "execution_count": 38,
   "id": "8f64c7a3",
   "metadata": {},
   "outputs": [
    {
     "data": {
      "text/plain": [
       "4233676"
      ]
     },
     "execution_count": 38,
     "metadata": {},
     "output_type": "execute_result"
    }
   ],
   "source": [
    "df = df[df.verified==False]\n",
    "df.shape[0]"
   ]
  },
  {
   "cell_type": "code",
   "execution_count": 45,
   "id": "aaeb432f",
   "metadata": {},
   "outputs": [
    {
     "data": {
      "text/plain": [
       "2991123"
      ]
     },
     "execution_count": 45,
     "metadata": {},
     "output_type": "execute_result"
    }
   ],
   "source": [
    "df['full_text'] = df['full_text'].map(lambda x: str(x).lower())\n",
    "\n",
    "df = df[df['full_text'].str.contains('covid|covid-19|covid 19|coronavirus|corona virus|2019-ncov|corona|sars-cov-2|sars cov')]\n",
    "\n",
    "df.shape[0]"
   ]
  },
  {
   "cell_type": "code",
   "execution_count": 41,
   "id": "08c5e7ad",
   "metadata": {},
   "outputs": [],
   "source": [
    "def remove_urls(text):\n",
    "    text = str(text)\n",
    "    url_pattern = re.compile(r'https?://\\S+|www\\.\\S+')\n",
    "    text = url_pattern.sub(r'', text)\n",
    "    # Words with punctuations and special characters\n",
    "    text = ' '.join(re.sub(\"([@#][A-Za-z0-9]+)|([^0-9A-Za-z \\t])|(\\w+:\\/\\/\\S+)\",\" \",text).split())\n",
    "    return text\n",
    "df['text'] = df['full_text'].apply(remove_urls)"
   ]
  },
  {
   "cell_type": "code",
   "execution_count": 43,
   "id": "6c11845c",
   "metadata": {},
   "outputs": [
    {
     "data": {
      "text/html": [
       "<div>\n",
       "<style scoped>\n",
       "    .dataframe tbody tr th:only-of-type {\n",
       "        vertical-align: middle;\n",
       "    }\n",
       "\n",
       "    .dataframe tbody tr th {\n",
       "        vertical-align: top;\n",
       "    }\n",
       "\n",
       "    .dataframe thead th {\n",
       "        text-align: right;\n",
       "    }\n",
       "</style>\n",
       "<table border=\"1\" class=\"dataframe\">\n",
       "  <thead>\n",
       "    <tr style=\"text-align: right;\">\n",
       "      <th></th>\n",
       "      <th>created_at</th>\n",
       "      <th>id</th>\n",
       "      <th>lang</th>\n",
       "      <th>full_text</th>\n",
       "      <th>verified</th>\n",
       "      <th>author_id</th>\n",
       "      <th>user_loc</th>\n",
       "      <th>hashtags</th>\n",
       "      <th>tweet_loc</th>\n",
       "      <th>text</th>\n",
       "    </tr>\n",
       "  </thead>\n",
       "  <tbody>\n",
       "    <tr>\n",
       "      <th>0</th>\n",
       "      <td>Mon Mar 01 05:00:59 +0000 2021</td>\n",
       "      <td>1366252100242477057</td>\n",
       "      <td>en</td>\n",
       "      <td>congrats to pm @narendramodi ji for taking #co...</td>\n",
       "      <td>False</td>\n",
       "      <td>255873334</td>\n",
       "      <td>New Delhi</td>\n",
       "      <td>[{'text': 'CoronaVaccine', 'indices': [43, 57]...</td>\n",
       "      <td>NaN</td>\n",
       "      <td>congrats to pm ji for taking this will inspire...</td>\n",
       "    </tr>\n",
       "    <tr>\n",
       "      <th>3</th>\n",
       "      <td>Mon Mar 01 05:01:00 +0000 2021</td>\n",
       "      <td>1366252105716097024</td>\n",
       "      <td>en</td>\n",
       "      <td>\"coronaphobia\" is a new term that researchers ...</td>\n",
       "      <td>False</td>\n",
       "      <td>1159274155</td>\n",
       "      <td>NaN</td>\n",
       "      <td>[]</td>\n",
       "      <td>NaN</td>\n",
       "      <td>coronaphobia is a new term that researchers ha...</td>\n",
       "    </tr>\n",
       "    <tr>\n",
       "      <th>6</th>\n",
       "      <td>Mon Mar 01 05:01:03 +0000 2021</td>\n",
       "      <td>1366252117221134338</td>\n",
       "      <td>en</td>\n",
       "      <td>a little information about covid-19 in pregnan...</td>\n",
       "      <td>False</td>\n",
       "      <td>1159274155</td>\n",
       "      <td>NaN</td>\n",
       "      <td>[]</td>\n",
       "      <td>NaN</td>\n",
       "      <td>a little information about covid 19 in pregnancy</td>\n",
       "    </tr>\n",
       "    <tr>\n",
       "      <th>7</th>\n",
       "      <td>Mon Mar 01 05:01:04 +0000 2021</td>\n",
       "      <td>1366252122581393409</td>\n",
       "      <td>en</td>\n",
       "      <td>new philippines covid-19 rules: pcr test scrap...</td>\n",
       "      <td>False</td>\n",
       "      <td>1091857187935264769</td>\n",
       "      <td>USA</td>\n",
       "      <td>[]</td>\n",
       "      <td>NaN</td>\n",
       "      <td>new philippines covid 19 rules pcr test scrapp...</td>\n",
       "    </tr>\n",
       "    <tr>\n",
       "      <th>8</th>\n",
       "      <td>Mon Mar 01 05:01:05 +0000 2021</td>\n",
       "      <td>1366252127568363521</td>\n",
       "      <td>en</td>\n",
       "      <td>iran’s health ministry: the country’s coronavi...</td>\n",
       "      <td>False</td>\n",
       "      <td>1338723882899927042</td>\n",
       "      <td>NaN</td>\n",
       "      <td>[{'text': 'newsexpresspost', 'indices': [113, ...</td>\n",
       "      <td>NaN</td>\n",
       "      <td>iran s health ministry the country s coronavir...</td>\n",
       "    </tr>\n",
       "  </tbody>\n",
       "</table>\n",
       "</div>"
      ],
      "text/plain": [
       "                       created_at                   id lang  \\\n",
       "0  Mon Mar 01 05:00:59 +0000 2021  1366252100242477057   en   \n",
       "3  Mon Mar 01 05:01:00 +0000 2021  1366252105716097024   en   \n",
       "6  Mon Mar 01 05:01:03 +0000 2021  1366252117221134338   en   \n",
       "7  Mon Mar 01 05:01:04 +0000 2021  1366252122581393409   en   \n",
       "8  Mon Mar 01 05:01:05 +0000 2021  1366252127568363521   en   \n",
       "\n",
       "                                           full_text  verified  \\\n",
       "0  congrats to pm @narendramodi ji for taking #co...     False   \n",
       "3  \"coronaphobia\" is a new term that researchers ...     False   \n",
       "6  a little information about covid-19 in pregnan...     False   \n",
       "7  new philippines covid-19 rules: pcr test scrap...     False   \n",
       "8  iran’s health ministry: the country’s coronavi...     False   \n",
       "\n",
       "             author_id   user_loc  \\\n",
       "0            255873334  New Delhi   \n",
       "3           1159274155        NaN   \n",
       "6           1159274155        NaN   \n",
       "7  1091857187935264769        USA   \n",
       "8  1338723882899927042        NaN   \n",
       "\n",
       "                                            hashtags tweet_loc  \\\n",
       "0  [{'text': 'CoronaVaccine', 'indices': [43, 57]...       NaN   \n",
       "3                                                 []       NaN   \n",
       "6                                                 []       NaN   \n",
       "7                                                 []       NaN   \n",
       "8  [{'text': 'newsexpresspost', 'indices': [113, ...       NaN   \n",
       "\n",
       "                                                text  \n",
       "0  congrats to pm ji for taking this will inspire...  \n",
       "3  coronaphobia is a new term that researchers ha...  \n",
       "6   a little information about covid 19 in pregnancy  \n",
       "7  new philippines covid 19 rules pcr test scrapp...  \n",
       "8  iran s health ministry the country s coronavir...  "
      ]
     },
     "execution_count": 43,
     "metadata": {},
     "output_type": "execute_result"
    }
   ],
   "source": [
    "df.head()"
   ]
  },
  {
   "cell_type": "code",
   "execution_count": 44,
   "id": "b97aa0e1",
   "metadata": {},
   "outputs": [],
   "source": [
    "df.to_csv('Marcleaned_tweets_.csv', sep=',', index=False)"
   ]
  },
  {
   "cell_type": "code",
   "execution_count": null,
   "id": "cea6f005",
   "metadata": {},
   "outputs": [],
   "source": []
  }
 ],
 "metadata": {
  "kernelspec": {
   "display_name": "Python 3",
   "language": "python",
   "name": "python3"
  },
  "language_info": {
   "codemirror_mode": {
    "name": "ipython",
    "version": 3
   },
   "file_extension": ".py",
   "mimetype": "text/x-python",
   "name": "python",
   "nbconvert_exporter": "python",
   "pygments_lexer": "ipython3",
   "version": "3.9.4"
  }
 },
 "nbformat": 4,
 "nbformat_minor": 5
}
